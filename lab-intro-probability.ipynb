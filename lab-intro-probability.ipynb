{
 "cells": [
  {
   "cell_type": "markdown",
   "metadata": {},
   "source": [
    "# Lab | Intro to Probability"
   ]
  },
  {
   "cell_type": "markdown",
   "metadata": {},
   "source": [
    "**Objective**\n",
    "\n",
    "Welcome to this Intro to Probability lab, where we explore decision-making scenarios through the lens of probability and strategic analysis. In the business world, making informed decisions is crucial, especially when faced with uncertainties. This lab focuses on scenarios where probabilistic outcomes play a significant role in shaping strategies and outcomes. Students will engage in exercises that require assessing and choosing optimal paths based on data-driven insights. The goal is to enhance your skills by applying probability concepts to solve real-world problems."
   ]
  },
  {
   "cell_type": "markdown",
   "metadata": {},
   "source": [
    "**Challenge 1**"
   ]
  },
  {
   "cell_type": "markdown",
   "metadata": {},
   "source": [
    "#### Ironhack Airlines \n",
    "\n",
    "Often Airlines sell more tickets than they have seats available, this is called overbooking. Consider the following:\n",
    "- A plane has 450 seats. \n",
    "- Based on historical data we conclude that each individual passenger has a 3% chance of missing it's flight. \n",
    "\n",
    "If the Ironhack Airlines routinely sells 460 tickets, what is the chance that they have a seats for all passenger?"
   ]
  },
  {
   "cell_type": "code",
   "execution_count": 5,
   "metadata": {},
   "outputs": [
    {
     "name": "stdout",
     "output_type": "stream",
     "text": [
      "There is a probability of 0.8505 or 85.05% that Ironhack Airlines has a seat for all passengers.\n"
     ]
    }
   ],
   "source": [
    "import scipy.stats as stats\n",
    "import math\n",
    "\n",
    "n = 460  # Number of tickets sold\n",
    "p = 0.97  # Probability of a passenger showing up -> 1-0.03\n",
    "X = 450  # Number of available seats\n",
    "\n",
    "mu = n * p\n",
    "sigma = math.sqrt(n * p * (1 - p))\n",
    "\n",
    "Z = (X - mu) / sigma\n",
    "\n",
    "probability_everyone_seated = stats.norm.cdf(Z)\n",
    "\n",
    "print(f\"There is a probability of {probability_everyone_seated:.4f} or {probability_everyone_seated * 100:.2f}% that Ironhack Airlines has a seat for all passengers.\")"
   ]
  },
  {
   "cell_type": "markdown",
   "metadata": {},
   "source": [
    "**Challenge 2**"
   ]
  },
  {
   "cell_type": "markdown",
   "metadata": {},
   "source": [
    "#### Ironhack Call Center "
   ]
  },
  {
   "cell_type": "markdown",
   "metadata": {},
   "source": [
    "Suppose a customer service representative at a call center is handling customer complaints. Consider the following:\n",
    "- The probability of successfully resolving a customer complaint on the first attempt is 0.3. \n",
    "\n",
    "\n",
    "What is the probability that the representative needs to make at least three attempts before successfully resolving a customer complaint?"
   ]
  },
  {
   "cell_type": "code",
   "execution_count": 9,
   "metadata": {},
   "outputs": [
    {
     "name": "stdout",
     "output_type": "stream",
     "text": [
      "There is a probability of 0.4900 or 49.00% that the representative needs at least 3 attempts.\n"
     ]
    }
   ],
   "source": [
    "failure_p = 1 - 0.3\n",
    "\n",
    "three_attempts_p = failure_p * failure_p\n",
    "\n",
    "print(f\"There is a probability of {three_attempts_p:.4f} or {three_attempts_p * 100:.2f}% that the representative needs at least 3 attempts.\")"
   ]
  },
  {
   "cell_type": "markdown",
   "metadata": {},
   "source": [
    "**Challenge 3**"
   ]
  },
  {
   "cell_type": "markdown",
   "metadata": {},
   "source": [
    "#### Ironhack Website"
   ]
  },
  {
   "cell_type": "markdown",
   "metadata": {},
   "source": [
    "Consider a scenario related to Ironhack website traffic. Where:\n",
    "- our website takes on average 500 visits per hour.\n",
    "- the website's server is designed to handle up to 550 vists per hour.\n",
    "\n",
    "\n",
    "What is the probability of the website server being overwhelmed?"
   ]
  },
  {
   "cell_type": "code",
   "execution_count": 13,
   "metadata": {},
   "outputs": [
    {
     "name": "stdout",
     "output_type": "stream",
     "text": [
      "The probability of the server being overwhelmed is 0.0127 or 1.27%\n"
     ]
    }
   ],
   "source": [
    "lambda_ = 500  # Average visits per hour\n",
    "server_capacity = 550  # Server capacity\n",
    "\n",
    "mu = lambda_\n",
    "sigma = lambda_ ** 0.5\n",
    "\n",
    "z_score = (server_capacity - mu) / sigma\n",
    "\n",
    "probability_overwhelmed = 1 - stats.norm.cdf(z_score)\n",
    "\n",
    "print(f\"The probability of the server being overwhelmed is {probability_overwhelmed:.4f} or {probability_overwhelmed * 100:.2f}%\")"
   ]
  },
  {
   "cell_type": "markdown",
   "metadata": {},
   "source": [
    "What is the probability of being overwhelmed at some point during a day? (consider 24hours)"
   ]
  },
  {
   "cell_type": "code",
   "execution_count": 15,
   "metadata": {},
   "outputs": [
    {
     "name": "stdout",
     "output_type": "stream",
     "text": [
      "The probability of the server being overwhelmed at some point during the day is 0.0865 or 8.65%\n"
     ]
    }
   ],
   "source": [
    "n_hours = 24  # Total number of hours in a day\n",
    "lambda_hour = 500  # Average visits per hour\n",
    "server_capacity = 550  # Server capacity per hour\n",
    "\n",
    "mu_hour = lambda_hour\n",
    "sigma_hour = math.sqrt(lambda_hour * 0.7)\n",
    "z_score = (server_capacity - mu_hour) / sigma_hour\n",
    "\n",
    "prob_no_overload_one_hour = stats.norm.cdf(z_score)\n",
    "\n",
    "prob_no_overload_all_24_hours = prob_no_overload_one_hour ** n_hours\n",
    "\n",
    "prob_at_least_one_overload = 1 - prob_no_overload_all_24_hours\n",
    "\n",
    "print(f\"The probability of the server being overwhelmed at some point during the day is {prob_at_least_one_overload:.4f} or {prob_at_least_one_overload * 100:.2f}%\")\n"
   ]
  },
  {
   "cell_type": "markdown",
   "metadata": {},
   "source": [
    "**Challenge 4**"
   ]
  },
  {
   "cell_type": "markdown",
   "metadata": {},
   "source": [
    "#### Ironhack Helpdesk"
   ]
  },
  {
   "cell_type": "markdown",
   "metadata": {},
   "source": [
    "Consider a scenario related to the time between arrivals of customers at a service desk.\n",
    "\n",
    "On average, a customers arrives every 10minutes.\n",
    "\n",
    "What is the probability that the next customer will arrive within the next 5 minutes?"
   ]
  },
  {
   "cell_type": "code",
   "execution_count": 19,
   "metadata": {},
   "outputs": [
    {
     "name": "stdout",
     "output_type": "stream",
     "text": [
      "The probability that the next customer will arrive within the next 5 minutes is 0.3935 or 39.35%\n"
     ]
    }
   ],
   "source": [
    "lambda_ = 1 / 10  # Rate parameter (1 arrival every 10 minutes)\n",
    "t = 5  # Time in minutes (we want the probability the next arrival is within 5 minutes)\n",
    "\n",
    "probability = 1 - math.exp(-lambda_ * t)\n",
    "\n",
    "print(f\"The probability that the next customer will arrive within the next 5 minutes is {probability:.4f} or {probability * 100:.2f}%\")"
   ]
  },
  {
   "cell_type": "markdown",
   "metadata": {},
   "source": [
    "If there is no customer for 15minutes, employees can that a 5minutes break.\n",
    "\n",
    "What is the probability an employee taking a break?"
   ]
  },
  {
   "cell_type": "code",
   "execution_count": 21,
   "metadata": {},
   "outputs": [
    {
     "name": "stdout",
     "output_type": "stream",
     "text": [
      "The probability that no customer will arrive within the next 15 minutes is 0.7769 or 77.69%\n"
     ]
    }
   ],
   "source": [
    "#Same but t=15\n",
    "lambda_ = 1 / 10 \n",
    "t = 15\n",
    "\n",
    "probability = 1 - math.exp(-lambda_ * t)\n",
    "\n",
    "print(f\"The probability that no customer will arrive within the next 15 minutes is {probability:.4f} or {probability * 100:.2f}%\")"
   ]
  },
  {
   "cell_type": "markdown",
   "metadata": {},
   "source": [
    "**Challenge 5**"
   ]
  },
  {
   "cell_type": "markdown",
   "metadata": {},
   "source": [
    "The weights of a certain species of birds follow a normal distribution with a mean weight of 150 grams and a standard deviation of 10 grams. \n",
    "\n",
    "- If we randomly select a bird, what is the probability that its weight is between 140 and 160 grams?"
   ]
  },
  {
   "cell_type": "code",
   "execution_count": 24,
   "metadata": {},
   "outputs": [
    {
     "name": "stdout",
     "output_type": "stream",
     "text": [
      "The probability that the bird's weight is between 140 and 160 grams is 0.6827 or 68.27%\n"
     ]
    }
   ],
   "source": [
    "mean = 150  # Mean weight (grams)\n",
    "std_dev = 10  # Standard deviation (grams)\n",
    "\n",
    "z_140 = (140 - mean) / std_dev\n",
    "z_160 = (160 - mean) / std_dev\n",
    "\n",
    "probability = stats.norm.cdf(z_160) - stats.norm.cdf(z_140)\n",
    "\n",
    "print(f\"The probability that the bird's weight is between 140 and 160 grams is {probability:.4f} or {probability * 100:.2f}%\")"
   ]
  },
  {
   "cell_type": "markdown",
   "metadata": {},
   "source": [
    "**Challenge 6**"
   ]
  },
  {
   "cell_type": "markdown",
   "metadata": {},
   "source": [
    "If the lifetime (in hours) of a certain electronic component follows an exponential distribution with a mean lifetime of 50 hours, what is the probability that the component fails within the first 30 hours?"
   ]
  },
  {
   "cell_type": "code",
   "execution_count": 27,
   "metadata": {},
   "outputs": [
    {
     "name": "stdout",
     "output_type": "stream",
     "text": [
      "The probability that the component fails within the first 30 hours is 0.4512 or 45.12%\n"
     ]
    }
   ],
   "source": [
    "mean_lifetime = 50  # Mean lifetime (hours)\n",
    "lambda_ = 1 / mean_lifetime  # Rate parameter (per hour)\n",
    "t = 30  # Time (hours)\n",
    "\n",
    "probability = 1 - math.exp(-lambda_ * t)\n",
    "\n",
    "print(f\"The probability that the component fails within the first 30 hours is {probability:.4f} or {probability * 100:.2f}%\")"
   ]
  }
 ],
 "metadata": {
  "kernelspec": {
   "display_name": "Python 3 (ipykernel)",
   "language": "python",
   "name": "python3"
  },
  "language_info": {
   "codemirror_mode": {
    "name": "ipython",
    "version": 3
   },
   "file_extension": ".py",
   "mimetype": "text/x-python",
   "name": "python",
   "nbconvert_exporter": "python",
   "pygments_lexer": "ipython3",
   "version": "3.12.4"
  }
 },
 "nbformat": 4,
 "nbformat_minor": 4
}
